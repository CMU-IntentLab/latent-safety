{
 "cells": [
  {
   "cell_type": "code",
   "execution_count": 1,
   "metadata": {},
   "outputs": [
    {
     "name": "stderr",
     "output_type": "stream",
     "text": [
      "/home/kensuke/miniconda3/envs/lcrl/lib/python3.10/site-packages/gymnasium/spaces/box.py:130: UserWarning: \u001b[33mWARN: Box bound precision lowered by casting to float32\u001b[0m\n",
      "  gym.logger.warn(f\"Box bound precision lowered by casting to {self.dtype}\")\n",
      "/home/kensuke/miniconda3/envs/lcrl/lib/python3.10/site-packages/gymnasium/utils/passive_env_checker.py:164: UserWarning: \u001b[33mWARN: The obs returned by the `reset()` method was expecting numpy array dtype to be float32, actual type: float64\u001b[0m\n",
      "  logger.warn(\n",
      "/home/kensuke/miniconda3/envs/lcrl/lib/python3.10/site-packages/gymnasium/utils/passive_env_checker.py:188: UserWarning: \u001b[33mWARN: The obs returned by the `reset()` method is not within the observation space.\u001b[0m\n",
      "  logger.warn(f\"{pre} is not within the observation space.\")\n"
     ]
    },
    {
     "name": "stdout",
     "output_type": "stream",
     "text": [
      "DDPG under the Avoid annealed Bellman equation has been loaded!\n"
     ]
    },
    {
     "data": {
      "text/plain": [
       "0.95"
      ]
     },
     "execution_count": 1,
     "metadata": {},
     "output_type": "execute_result"
    }
   ],
   "source": [
    "\n",
    "import argparse\n",
    "import os\n",
    "import pprint\n",
    "\n",
    "import gymnasium as gym\n",
    "import numpy as np\n",
    "import torch\n",
    "from torch.utils.tensorboard import SummaryWriter\n",
    "\n",
    "from LCRL.env import DummyVectorEnv\n",
    "from LCRL.exploration import GaussianNoise\n",
    "from LCRL.utils.net.common import Net\n",
    "from LCRL.utils.net.continuous import Actor, Critic\n",
    "import LCRL.reach_rl_gym_envs as reach_rl_gym_envs\n",
    "# NOTE: all the reach-avoid gym environments are in reach_rl_gym_envs, the constraint information is output as an element of the info dictionary in gym.step() function\n",
    "\n",
    "\n",
    "# NOTE: This notebook is used after training the classical reach-avoid value function via DDPG\n",
    "\n",
    "\n",
    "\"\"\"\n",
    "    We can learn the classical reach-avoid value function by using DDPG under the classical annealed reach-avoid Bellman equation in arXiv:2112.12288:\n",
    "    python run_training_ddpg.py --task ra_droneracing_Game-v6 --control-net 512 512 512 512 --disturbance-net 512 512 512 512 --critic-net 512 512 512 512 --gamma 0.95 --epoch 10 --total-episodes 160 --is-game-baseline True\n",
    "\"\"\"\n",
    "def get_args():\n",
    "    parser = argparse.ArgumentParser()\n",
    "    parser.add_argument('--task', type=str, default='dubins-v0')\n",
    "    parser.add_argument('--reward-threshold', type=float, default=None)\n",
    "    parser.add_argument('--seed', type=int, default=0)\n",
    "    parser.add_argument('--buffer-size', type=int, default=40000)\n",
    "    parser.add_argument('--actor-lr', type=float, default=1e-4)\n",
    "    parser.add_argument('--critic-lr', type=float, default=1e-3)\n",
    "    parser.add_argument('--gamma', type=float, default=0.95)\n",
    "    parser.add_argument('--tau', type=float, default=0.005)\n",
    "    parser.add_argument('--exploration-noise', type=float, default=0.1)\n",
    "    parser.add_argument('--epoch', type=int, default=10)\n",
    "    parser.add_argument('--total-episodes', type=int, default=160)\n",
    "    parser.add_argument('--step-per-epoch', type=int, default=40000)\n",
    "    parser.add_argument('--step-per-collect', type=int, default=8)\n",
    "    parser.add_argument('--update-per-step', type=float, default=0.125)\n",
    "    parser.add_argument('--batch-size', type=int, default=512)\n",
    "    parser.add_argument('--control-net', type=int, nargs='*', default=[512, 512, 512, 512]) # for control policy\n",
    "    parser.add_argument('--disturbance-net', type=int, nargs='*', default=[512, 512, 512, 512]) # for disturbance policy\n",
    "    parser.add_argument('--critic-net', type=int, nargs='*', default=[512, 512, 512, 512]) # for critic net\n",
    "    parser.add_argument('--training-num', type=int, default=8)\n",
    "    parser.add_argument('--test-num', type=int, default=100)\n",
    "    parser.add_argument('--logdir', type=str, default='log')\n",
    "    parser.add_argument('--render', type=float, default=0.)\n",
    "    parser.add_argument('--rew-norm', action=\"store_true\", default=False)\n",
    "    parser.add_argument('--n-step', type=int, default=1)\n",
    "    parser.add_argument('--continue-training-logdir', type=str, default=None)\n",
    "    parser.add_argument('--continue-training-epoch', type=int, default=None)\n",
    "    parser.add_argument('--actor-gradient-steps', type=int, default=1)\n",
    "    parser.add_argument('--is-game-baseline', type=bool, default=True) # True -> classical approximated reach-avoid Bellman equation, False -> our new Reach-RL Bellman equation\n",
    "    parser.add_argument('--target-update-freq', type=int, default=400)\n",
    "    parser.add_argument(\n",
    "        '--device', type=str, default='cuda' if torch.cuda.is_available() else 'cpu'\n",
    "    )\n",
    "    parser.add_argument('--actor-activation', type=str, default='ReLU')\n",
    "    parser.add_argument('--critic-activation', type=str, default='ReLU')\n",
    "    parser.add_argument('--kwargs', type=str, default='{}')\n",
    "    args = parser.parse_known_args()[0]\n",
    "    return args\n",
    "\n",
    "\n",
    "\n",
    "args=get_args()\n",
    "\n",
    "env = gym.make(args.task)\n",
    "# check if the environment has control and disturbance actions:\n",
    "assert hasattr(env, 'action1_space') #and hasattr(env, 'action2_space'), \"The environment does not have control and disturbance actions!\"\n",
    "args.state_shape = env.observation_space.shape or env.observation_space.n\n",
    "args.action_shape = env.action_space.shape or env.action_space.n\n",
    "args.max_action = env.action_space.high[0]\n",
    "\n",
    "args.action1_shape = env.action1_space.shape or env.action1_space.n\n",
    "#args.action2_shape = env.action2_space.shape or env.action2_space.n\n",
    "args.max_action1 = env.action1_space.high[0]\n",
    "#args.max_action2 = env.action2_space.high[0]\n",
    "\n",
    "\n",
    "train_envs = DummyVectorEnv(\n",
    "    [lambda: gym.make(args.task) for _ in range(args.training_num)]\n",
    ")\n",
    "test_envs = DummyVectorEnv(\n",
    "    [lambda: gym.make(args.task) for _ in range(args.test_num)]\n",
    ")\n",
    "# seed\n",
    "np.random.seed(args.seed)\n",
    "torch.manual_seed(args.seed)\n",
    "train_envs.seed(args.seed)\n",
    "test_envs.seed(args.seed)\n",
    "# model\n",
    "\n",
    "if args.actor_activation == 'ReLU':\n",
    "    actor_activation = torch.nn.ReLU\n",
    "elif args.actor_activation == 'Tanh':\n",
    "    actor_activation = torch.nn.Tanh\n",
    "elif args.actor_activation == 'Sigmoid':\n",
    "    actor_activation = torch.nn.Sigmoid\n",
    "elif args.actor_activation == 'SiLU':\n",
    "    actor_activation = torch.nn.SiLU\n",
    "\n",
    "if args.critic_activation == 'ReLU':\n",
    "    critic_activation = torch.nn.ReLU\n",
    "elif args.critic_activation == 'Tanh':\n",
    "    critic_activation = torch.nn.Tanh\n",
    "elif args.critic_activation == 'Sigmoid':\n",
    "    critic_activation = torch.nn.Sigmoid\n",
    "elif args.critic_activation == 'SiLU':\n",
    "    critic_activation = torch.nn.SiLU\n",
    "\n",
    "if args.critic_net is not None:\n",
    "    critic_net = Net(\n",
    "        args.state_shape,\n",
    "        args.action_shape,\n",
    "        hidden_sizes=args.critic_net,\n",
    "        activation=critic_activation,\n",
    "        concat=True,\n",
    "        device=args.device\n",
    "    )\n",
    "else:\n",
    "    critic_net = Net(\n",
    "        args.state_shape,\n",
    "        args.action_shape,\n",
    "        hidden_sizes=args.hidden_sizes,\n",
    "        activation=critic_activation,\n",
    "        concat=True,\n",
    "        device=args.device\n",
    "    )\n",
    "\n",
    "critic = Critic(critic_net, device=args.device).to(args.device)\n",
    "critic_optim = torch.optim.Adam(critic.parameters(), lr=args.critic_lr)\n",
    "\n",
    "critic1 = Critic(critic_net, device=args.device).to(args.device)\n",
    "critic1_optim = torch.optim.Adam(critic1.parameters(), lr=args.critic_lr)\n",
    "critic2 = Critic(critic_net, device=args.device).to(args.device)\n",
    "critic2_optim = torch.optim.Adam(critic2.parameters(), lr=args.critic_lr)    \n",
    "if args.control_net is None:\n",
    "    args.control_net = args.hidden_sizes\n",
    "#if args.disturbance_net is None:\n",
    "#    args.disturbance_net = args.hidden_sizes\n",
    "if args.critic_net is None:\n",
    "    args.critic_net = args.hidden_sizes\n",
    "# import pdb; pdb.set_trace()\n",
    "log_path = None\n",
    "\n",
    "from LCRL.policy import avoid_DDPGPolicy_annealing as DDPGPolicy\n",
    "print(\"DDPG under the Avoid annealed Bellman equation has been loaded!\")\n",
    "\n",
    "#if args.is_game_baseline:\n",
    "#    from LCRL.policy import reach_avoid_game_DDPGPolicy_annealing as DDPGPolicy\n",
    "#    print(\"DDPG under the Reach-Avoid annealed Bellman equation has been loaded!\")\n",
    "#else:\n",
    "#    from LCRL.policy import reach_avoid_game_DDPGPolicy as DDPGPolicy\n",
    "#    print(\"DDPG under Reach-RL Bellman equation has been loaded!\")\n",
    "actor1_net = Net(args.state_shape, hidden_sizes=args.control_net, activation=actor_activation, device=args.device)\n",
    "actor1 = Actor(\n",
    "    actor1_net, args.action1_shape, max_action=args.max_action1, device=args.device\n",
    ").to(args.device)\n",
    "actor1_optim = torch.optim.Adam(actor1.parameters(), lr=args.actor_lr)\n",
    "#actor2_net = Net(args.state_shape, hidden_sizes=args.disturbance_net, activation=actor_activation, device=args.device)\n",
    "#actor2 = Actor(\n",
    "#    actor2_net, args.action2_shape, max_action=args.max_action1, device=args.device\n",
    "#).to(args.device)\n",
    "#actor2_optim = torch.optim.Adam(actor2.parameters(), lr=args.actor_lr)\n",
    "\n",
    "policy = DDPGPolicy(\n",
    "critic,\n",
    "critic_optim,\n",
    "tau=args.tau,\n",
    "gamma=args.gamma,\n",
    "exploration_noise=GaussianNoise(sigma=args.exploration_noise),\n",
    "reward_normalization=args.rew_norm,\n",
    "estimation_step=args.n_step,\n",
    "action_space=env.action_space,\n",
    "actor1=actor1,\n",
    "actor1_optim=actor1_optim,\n",
    "#actor2=actor2,\n",
    "#actor2_optim=actor2_optim,\n",
    "actor_gradient_steps=args.actor_gradient_steps,\n",
    ")\n",
    "if args.is_game_baseline:\n",
    "    log_path = os.path.join(args.logdir, args.task, 'baseline_ddpg_reach_avoid_actor_activation_{}_critic_activation_{}_game_gd_steps_{}_tau_{}_training_num_{}_buffer_size_{}_c_net_{}_{}_a1_{}_{}_a2_{}_{}_gamma_{}'.format(\n",
    "    args.actor_activation, \n",
    "    args.critic_activation, \n",
    "    args.actor_gradient_steps,args.tau, \n",
    "    args.training_num, \n",
    "    args.buffer_size,\n",
    "    args.critic_net[0],\n",
    "    len(args.critic_net),\n",
    "    args.control_net[0],\n",
    "    len(args.control_net),\n",
    "    args.disturbance_net[0],\n",
    "    len(args.disturbance_net),\n",
    "    args.gamma)\n",
    ")\n",
    "else:\n",
    "    log_path = os.path.join(args.logdir, args.task, 'ddpg_reach_avoid_actor_activation_{}_critic_activation_{}_game_gd_steps_{}_tau_{}_training_num_{}_buffer_size_{}_c_net_{}_{}_a1_{}_{}_a2_{}_{}_gamma_{}'.format(\n",
    "    args.actor_activation, \n",
    "    args.critic_activation, \n",
    "    args.actor_gradient_steps,args.tau, \n",
    "    args.training_num, \n",
    "    args.buffer_size,\n",
    "    args.critic_net[0],\n",
    "    len(args.critic_net),\n",
    "    args.control_net[0],\n",
    "    len(args.control_net),\n",
    "    args.disturbance_net[0],\n",
    "    len(args.disturbance_net),\n",
    "    args.gamma)\n",
    ")\n",
    "\n",
    "\n",
    "log_path = log_path+'/noise_{}_actor_lr_{}_critic_lr_{}_batch_{}_step_per_epoch_{}_kwargs_{}_seed_{}'.format(\n",
    "        args.exploration_noise, \n",
    "        args.actor_lr, \n",
    "        args.critic_lr, \n",
    "        args.batch_size,\n",
    "        args.step_per_epoch,\n",
    "        args.kwargs,\n",
    "        args.seed\n",
    "    )\n",
    "args.gamma\n"
   ]
  },
  {
   "cell_type": "code",
   "execution_count": 2,
   "metadata": {},
   "outputs": [],
   "source": [
    "# NOTE! if you want to use the pre-trained model, you can set the path to the model here:\n",
    "# otherwise, you can skip this cell and move to the next cell\n",
    "#log_path = \"pretrained_neural_networks/ra_droneracing_Game-v6/baseline_ddpg_reach_avoid_actor_activation_ReLU_critic_activation_ReLU_game_gd_steps_1_tau_0.005_training_num_8_buffer_size_40000_c_net_512_4_a1_512_4_a2_512_4_gamma_0.95/noise_0.1_actor_lr_0.0001_critic_lr_0.001_batch_512_step_per_epoch_40000_kwargs_{}_seed_0\"\n",
    "log_path = \"/home/kensuke/latent-safety/Lipschitz_Continuous_Reachability_Learning/experiment_script/log/dubins-v0/ddpg_reach_avoid_actor_activation_ReLU_critic_activation_ReLU_game_gd_steps_1_tau_0.005_training_num_8_buffer_size_40000_c_net_512_4_a1_512_4_a2_512_4_gamma_0.95\""
   ]
  },
  {
   "cell_type": "code",
   "execution_count": 3,
   "metadata": {},
   "outputs": [
    {
     "name": "stdout",
     "output_type": "stream",
     "text": [
      "policy loaded!\n"
     ]
    },
    {
     "name": "stderr",
     "output_type": "stream",
     "text": [
      "/home/kensuke/miniconda3/envs/lcrl/lib/python3.10/site-packages/gymnasium/spaces/box.py:130: UserWarning: \u001b[33mWARN: Box bound precision lowered by casting to float32\u001b[0m\n",
      "  gym.logger.warn(f\"Box bound precision lowered by casting to {self.dtype}\")\n",
      "/tmp/ipykernel_1064850/2204933802.py:7: FutureWarning: You are using `torch.load` with `weights_only=False` (the current default value), which uses the default pickle module implicitly. It is possible to construct malicious pickle data which will execute arbitrary code during unpickling (See https://github.com/pytorch/pytorch/blob/main/SECURITY.md#untrusted-models for more details). In a future release, the default value for `weights_only` will be flipped to `True`. This limits the functions that could be executed during unpickling. Arbitrary objects will no longer be allowed to be loaded via this mode unless they are explicitly allowlisted by the user via `torch.serialization.add_safe_globals`. We recommend you start setting `weights_only=True` for any use case where you don't have full control of the loaded file. Please open an issue on GitHub for any issues related to this experimental feature.\n",
      "  policy.load_state_dict(torch.load('/home/kensuke/latent-safety/Lipschitz_Continuous_Reachability_Learning/experiment_script/log/dubins-v0/ddpg_reach_avoid_actor_activation_ReLU_critic_activation_ReLU_game_gd_steps_1_tau_0.005_training_num_8_buffer_size_40000_c_net_512_4_a1_512_4_a2_512_4_gamma_0.95/noise_0.1_actor_lr_0.0001_critic_lr_0.001_batch_512_step_per_epoch_40000_kwargs_{}_seed_0/epoch_id_0/policy.pth'))\n"
     ]
    }
   ],
   "source": [
    "# data reloading module:\n",
    "epoch_id = 40\n",
    "envs = gym.make(args.task)\n",
    "\n",
    "# check if the log path exists\n",
    "if os.path.exists(log_path):\n",
    "    policy.load_state_dict(torch.load('/home/kensuke/latent-safety/Lipschitz_Continuous_Reachability_Learning/experiment_script/log/dubins-v0/ddpg_reach_avoid_actor_activation_ReLU_critic_activation_ReLU_game_gd_steps_1_tau_0.005_training_num_8_buffer_size_40000_c_net_512_4_a1_512_4_a2_512_4_gamma_0.95/noise_0.1_actor_lr_0.0001_critic_lr_0.001_batch_512_step_per_epoch_40000_kwargs_{}_seed_0/epoch_id_0/policy.pth'))\n",
    "\n",
    "    #policy.load_state_dict(torch.load(log_path+'/epoch_id_{}/policy.pth'.format(epoch_id)))\n",
    "    print(\"policy loaded!\")\n",
    "else:\n",
    "    print(\"log_path does not exist!\")\n"
   ]
  },
  {
   "cell_type": "code",
   "execution_count": 4,
   "metadata": {},
   "outputs": [],
   "source": [
    "color_list = [\n",
    "    \"#ff910a\",  # Original color 1\n",
    "    \"#828282\",  # Original color 2\n",
    "    \"#1c9993\",  # Original color 3\n",
    "    \"#B4259A\",  # Original color 4\n",
    "    \"#B02418\",  # Original color 5\n",
    "    \"#99331c\",  # New color 1 (Complementary to #1c9993)\n",
    "    \"#ffa50a\",  # New color 2 (Analogous to #ff910a)\n",
    "    \"#25B49A\",   # New color 3 (Triadic to #B4259A)\n",
    "    \"#4A90E2\"\n",
    "]"
   ]
  },
  {
   "cell_type": "code",
   "execution_count": 5,
   "metadata": {},
   "outputs": [],
   "source": [
    "from LCRL.data import Batch\n",
    "def find_a(state):\n",
    "    tmp_obs = np.array(state).reshape(1,-1)\n",
    "    tmp_batch = Batch(obs = tmp_obs, info = Batch())\n",
    "    tmp = policy(tmp_batch, model = \"actor_old\").act\n",
    "    act = policy.map_action(tmp).cpu().detach().numpy().flatten()\n",
    "    return act\n",
    "\n",
    "def evaluate_V(state):\n",
    "    tmp_obs = np.array(state).reshape(1,-1)\n",
    "    tmp_batch = Batch(obs = tmp_obs, info = Batch())\n",
    "    tmp = policy.critic_old(tmp_batch.obs, policy(tmp_batch, model=\"actor_old\").act)\n",
    "    return tmp.cpu().detach().numpy().flatten()\n",
    "\n",
    "import matplotlib.pyplot as plt\n",
    "from matplotlib import cm\n",
    "from matplotlib.ticker import LinearLocator\n",
    "import numpy as np\n",
    "import math\n",
    "from tqdm import tqdm"
   ]
  },
  {
   "cell_type": "code",
   "execution_count": 6,
   "metadata": {},
   "outputs": [
    {
     "name": "stderr",
     "output_type": "stream",
     "text": [
      "  0%|          | 0/200 [00:00<?, ?it/s]/tmp/ipykernel_1064850/1214623825.py:21: DeprecationWarning: Conversion of an array with ndim > 0 to a scalar is deprecated, and will error in future. Ensure you extract a single element from your array before performing this operation. (Deprecated NumPy 1.25.)\n",
      "  V[ii,jj] = evaluate_V( tmp_point )\n",
      "100%|██████████| 200/200 [00:12<00:00, 15.92it/s]\n"
     ]
    },
    {
     "name": "stdout",
     "output_type": "stream",
     "text": [
      "-0.2565838694572449 1.826326608657837\n"
     ]
    },
    {
     "data": {
      "image/png": "[encoded data removed]",
      "text/plain": [
       "<Figure size 800x800 with 2 Axes>"
      ]
     },
     "metadata": {},
     "output_type": "display_data"
    },
    {
     "data": {
      "text/plain": [
       "'\\nsurf = ax.plot_surface(X, Y, V, cmap=cm.coolwarm_r,vmin= V.min(), vmax=-V.max(),\\n                        linewidth=0, antialiased=False)'"
      ]
     },
     "execution_count": 6,
     "metadata": {},
     "output_type": "execute_result"
    }
   ],
   "source": [
    "# plt.rcParams['font.family'] = 'Times New Roman'\n",
    "\n",
    "x = np.arange(-1.0, 1.0, 0.01)\n",
    "y = np.arange(-1.0, 1.0, 0.01)\n",
    "X, Y = np.meshgrid(x, y)\n",
    "size_x = len(x)\n",
    "size_y = len(y)\n",
    "V = np.zeros((X.shape))\n",
    "ego_theta = np.pi/2\n",
    "\n",
    "\n",
    "\n",
    "X_V = X\n",
    "Y_V = Y\n",
    "for ii in tqdm(range(V.shape[0])):\n",
    "    for jj in range(V.shape[1]):\n",
    "        tmp_point = torch.tensor([\n",
    "            X[ii,jj],\n",
    "            Y[ii,jj], ego_theta,\n",
    "        ])\n",
    "        V[ii,jj] = evaluate_V( tmp_point )\n",
    "\n",
    "print(V.min(), V.max())\n",
    "plt.figure(figsize=(8, 8))  # Set the figure size to make it more readable\n",
    "V_flipped = np.flipud(V)\n",
    "plt.imshow(V_flipped>0, cmap='viridis', extent=[-1, 1, -1, 1], interpolation='nearest')\n",
    "\n",
    "plt.colorbar()  # Add a colorbar to show the scale of values\n",
    "plt.title(\"Heatmap of 200x200 Grid\")\n",
    "plt.show()\n",
    "'''\n",
    "surf = ax.plot_surface(X, Y, V, cmap=cm.coolwarm_r,vmin= V.min(), vmax=-V.max(),\n",
    "                        linewidth=0, antialiased=False)'''"
   ]
  },
  {
   "cell_type": "code",
   "execution_count": 65,
   "metadata": {},
   "outputs": [
    {
     "data": {
      "image/png": "[encoded data removed]",
      "text/plain": [
       "<Figure size 220x300 with 1 Axes>"
      ]
     },
     "metadata": {},
     "output_type": "display_data"
    }
   ],
   "source": [
    "import seaborn as sns\n",
    "\n",
    "x_interval = 30\n",
    "y_interval = 60\n",
    "\n",
    "fig, ax = plt.subplots(figsize=(2.2, 3))\n",
    "V_flipped = np.flipud(V)\n",
    "sns.heatmap(V_flipped, annot=False, cmap=cm.coolwarm_r, ax=ax, vmin= V_flipped.min(), vmax=-V_flipped.min(),\n",
    "            cbar=False,\n",
    "            )\n",
    "\n",
    "x_ticks = np.arange(0, len(x), x_interval)\n",
    "y_ticks = np.arange(0, len(y), y_interval)\n",
    "ax.set_xticks(x_ticks)\n",
    "ax.set_yticks(y_ticks)\n",
    "\n",
    "ax.set_xticklabels(np.round(x[::x_interval], 2))\n",
    "ax.set_yticklabels(np.round(y[::-y_interval]+0.02, 1))\n",
    "\n",
    "contours = ax.contour((X+0.9)*100, (Y+2.6)*100, V_flipped, levels=[0], colors=\"black\", linestyles='dashed')\n",
    "ax.clabel(contours, inline=True, fontsize=8, fmt=\"%.2f\")\n",
    "plt.show()\n"
   ]
  },
  {
   "cell_type": "code",
   "execution_count": 7,
   "metadata": {},
   "outputs": [],
   "source": [
    "binary_pure_V = np.zeros(V.shape)\n",
    "binary_pure_V[V > 0] = 1\n"
   ]
  },
  {
   "cell_type": "code",
   "execution_count": 10,
   "metadata": {},
   "outputs": [
    {
     "name": "stderr",
     "output_type": "stream",
     "text": [
      " 50%|█████     | 50/100 [00:00<00:00, 243.66it/s]"
     ]
    },
    {
     "name": "stdout",
     "output_type": "stream",
     "text": [
      "success at time = 9!\n",
      "constraint violated!\n",
      "success at time = 14!\n",
      "success at time = 16!\n",
      "success at time = 12!\n",
      "success at time = 17!\n",
      "success at time = 13!\n",
      "success at time = 10!\n",
      "success at time = 6!\n",
      "success at time = 2!\n",
      "success at time = 8!\n",
      "success at time = 13!\n",
      "success at time = 9!\n",
      "success at time = 11!\n",
      "success at time = 4!\n",
      "success at time = 13!\n",
      "success at time = 6!\n",
      "success at time = 13!\n",
      "success at time = 10!\n",
      "success at time = 17!\n",
      "success at time = 9!\n",
      "success at time = 15!\n",
      "success at time = 14!\n",
      "success at time = 4!\n",
      "success at time = 13!\n",
      "success at time = 13!\n",
      "success at time = 8!\n",
      "success at time = 7!\n",
      "success at time = 7!\n",
      "success at time = 4!\n",
      "success at time = 29!\n",
      "success at time = 7!\n",
      "success at time = 5!\n",
      "success at time = 10!\n",
      "success at time = 17!\n",
      "success at time = 10!\n",
      "success at time = 15!\n",
      "success at time = 16!\n",
      "success at time = 9!\n",
      "success at time = 11!\n",
      "success at time = 4!\n",
      "success at time = 7!\n",
      "success at time = 7!\n",
      "success at time = 10!\n",
      "success at time = 13!\n",
      "success at time = 5!\n"
     ]
    },
    {
     "name": "stderr",
     "output_type": "stream",
     "text": [
      " 75%|███████▌  | 75/100 [00:00<00:00, 238.03it/s]"
     ]
    },
    {
     "name": "stdout",
     "output_type": "stream",
     "text": [
      "constraint violated!\n",
      "success at time = 12!\n",
      "success at time = 23!\n",
      "success at time = 20!\n",
      "success at time = 14!\n",
      "success at time = 3!\n",
      "success at time = 10!\n",
      "success at time = 13!\n",
      "success at time = 12!\n",
      "success at time = 12!\n",
      "success at time = 4!\n",
      "success at time = 15!\n",
      "success at time = 6!\n",
      "success at time = 8!\n",
      "success at time = 12!\n",
      "success at time = 11!\n",
      "success at time = 10!\n",
      "success at time = 13!\n",
      "success at time = 11!\n",
      "success at time = 14!\n",
      "success at time = 11!\n",
      "success at time = 13!\n",
      "success at time = 13!\n",
      "success at time = 3!\n",
      "success at time = 15!\n",
      "success at time = 2!\n",
      "success at time = 14!\n",
      "success at time = 8!\n",
      "success at time = 13!\n",
      "success at time = 13!\n",
      "success at time = 12!\n",
      "success at time = 14!\n",
      "success at time = 18!\n",
      "success at time = 12!\n",
      "success at time = 11!\n",
      "success at time = 9!\n",
      "success at time = 11!\n",
      "success at time = 9!\n",
      "success at time = 10!\n",
      "success at time = 5!\n",
      "success at time = 12!\n",
      "success at time = 10!\n"
     ]
    },
    {
     "name": "stderr",
     "output_type": "stream",
     "text": [
      "100%|██████████| 100/100 [00:00<00:00, 241.22it/s]"
     ]
    },
    {
     "name": "stdout",
     "output_type": "stream",
     "text": [
      "success at time = 13!\n"
     ]
    },
    {
     "name": "stderr",
     "output_type": "stream",
     "text": [
      "\n"
     ]
    },
    {
     "data": {
      "text/plain": [
       "0.98"
      ]
     },
     "execution_count": 10,
     "metadata": {},
     "output_type": "execute_result"
    }
   ],
   "source": [
    "\"\"\"\n",
    "success rate is computed by recording the number of initial states that can be maintained within the target set for 100 steps\n",
    "\"\"\"\n",
    "from LCRL.data import Batch\n",
    "from tqdm import tqdm\n",
    "\n",
    "def find_a(state):\n",
    "    tmp_obs = np.array(state).reshape(1,-1)\n",
    "    tmp_batch = Batch(obs = tmp_obs, info = Batch())\n",
    "    tmp = policy(tmp_batch, model = \"actor_old\").act\n",
    "    act = policy.map_action(tmp).cpu().detach().numpy().flatten()\n",
    "    act[3:] = np.random.uniform(-1, 1, size = 3)\n",
    "    return act\n",
    "\n",
    "def evaluate_V(state):\n",
    "    tmp_obs = np.array(state).reshape(1,-1)\n",
    "    tmp_batch = Batch(obs = tmp_obs, info = Batch())\n",
    "    tmp = policy.critic_old(tmp_batch.obs, policy(tmp_batch, model=\"actor_old\").act)\n",
    "    return tmp.cpu().detach().numpy().flatten()\n",
    "\n",
    "import matplotlib.pyplot as plt\n",
    "from matplotlib import cm\n",
    "from matplotlib.ticker import LinearLocator\n",
    "import numpy as np\n",
    "import math\n",
    "\n",
    "n_dim = env.observation_space.shape[0]\n",
    "def roll_out_traj(env, state, horizon, verbose = False):\n",
    "    n_dim = env.observation_space.shape[0]\n",
    "    state_traj = np.zeros((n_dim, horizon+1))\n",
    "    \n",
    "    state_traj[:,0] = state\n",
    "    env.reset(initial_state = state)\n",
    "    safe_reaching_time = np.inf\n",
    "    for t in range(horizon):\n",
    "        action = find_a(state_traj[:,t])\n",
    "        rand_disturbance = np.random.uniform(low = -1, high = 1, size = (3,))\n",
    "        action = np.array([action[0], action[1], action[2], rand_disturbance[0], rand_disturbance[1], rand_disturbance[1]])\n",
    "        tmp, rew, _, _, info = env.step(action)\n",
    "        \n",
    "        state_traj[:,t+1] = tmp\n",
    "        if rew > 0 and t<=horizon-2 and info[\"constraint\"] > 0:\n",
    "            if t>1 and verbose:\n",
    "                print(\"success at time = {}!\".format(t))\n",
    "            return state_traj[:,:t+1], True, rand_disturbance\n",
    "\n",
    "        if info[\"constraint\"] < 0:\n",
    "            print(\"constraint violated!\") if verbose else None\n",
    "            return state_traj[:,:t+1], False, rand_disturbance\n",
    "            break\n",
    "        \n",
    "        if state_traj[2,t+1] > 0 or state_traj[8,t+1] > 0:\n",
    "            print(\"A Drone passed frame!\") if verbose else None\n",
    "            return state_traj[:,:t+1], False, rand_disturbance\n",
    "            break\n",
    "    return state_traj, False, rand_disturbance\n",
    "\n",
    "num_samples = 100\n",
    "sampled_states = np.zeros((n_dim,num_samples))\n",
    "num_success = 0\n",
    "horizon = 300\n",
    "high = np.array([  \n",
    "                0.8,  0.2,  -1.5,  0.7,  0.8,  0.2,\n",
    "                0.8,  0.2,  -1.5,  0.7,  0.8,  0.2,\n",
    "                ], dtype=np.float32) # x1 vx1 y1 vy1 z1 vz1          x2 vx2 y2 vy2 z2 vz2\n",
    "low  = np.array([  \n",
    "                -0.8, -0.2, -3, 0.2, -0.8, -0.2,\n",
    "                -0.8, -0.2, -3, 0.2, -0.8, -0.2,\n",
    "                ], dtype=np.float32)\n",
    "\n",
    "list_of_failure_states = []\n",
    "list_of_success_states = []\n",
    "for ii in tqdm(range(num_samples)):\n",
    "    sampled_initial_state = np.random.uniform(low = low, high = high)\n",
    "    tmp = envs.reset(initial_state = sampled_initial_state)\n",
    "    sampled_states[:,ii] = tmp[0]\n",
    "    while evaluate_V(sampled_states[:,ii]) < 0:\n",
    "        sampled_initial_state = np.random.uniform(low = low, high = high)\n",
    "        tmp = envs.reset(initial_state = sampled_initial_state)\n",
    "        sampled_states[:,ii] = tmp[0]\n",
    "    traj, success,_ = roll_out_traj(envs, sampled_states[:,ii], horizon, verbose = True)\n",
    "    if success==True :\n",
    "        num_success = num_success + 1\n",
    "        list_of_success_states.append(sampled_states[:,ii])\n",
    "    else:\n",
    "        list_of_failure_states.append(sampled_states[:,ii])\n",
    "        continue\n",
    "num_success/num_samples"
   ]
  },
  {
   "cell_type": "code",
   "execution_count": 11,
   "metadata": {},
   "outputs": [],
   "source": [
    "# save the list of sampled states, we will use them in the notebook \"droneracing_post_training_DDPG_evaluation_new.ipynb\" to evaluate the learned policy there on this set of initial states\n",
    "import pickle\n",
    "with open(\"list_of_initial_states_droneracing_from_classical_reachability_value_function_learning.pkl\", \"wb\") as f:\n",
    "    pickle.dump(list_of_success_states, f)"
   ]
  },
  {
   "cell_type": "code",
   "execution_count": 9,
   "metadata": {},
   "outputs": [
    {
     "name": "stderr",
     "output_type": "stream",
     "text": [
      " 41%|████      | 41/100 [00:00<00:00, 198.01it/s]"
     ]
    },
    {
     "name": "stdout",
     "output_type": "stream",
     "text": [
      "success at time = 2!\n",
      "success at time = 28!\n",
      "constraint violated!\n",
      "success at time = 33!\n",
      "success at time = 17!\n",
      "success at time = 29!\n",
      "constraint violated!\n",
      "success at time = 9!\n",
      "success at time = 11!\n",
      "success at time = 6!\n",
      "success at time = 20!\n",
      "success at time = 15!\n",
      "success at time = 18!\n",
      "success at time = 24!\n",
      "success at time = 13!\n",
      "success at time = 18!\n",
      "success at time = 26!\n",
      "success at time = 13!\n",
      "success at time = 16!\n",
      "success at time = 16!\n",
      "success at time = 20!\n",
      "success at time = 20!\n",
      "success at time = 28!\n",
      "constraint violated!\n",
      "constraint violated!\n",
      "success at time = 21!\n",
      "success at time = 15!\n",
      "success at time = 9!\n",
      "success at time = 25!\n",
      "success at time = 16!\n",
      "constraint violated!\n",
      "success at time = 15!\n",
      "constraint violated!\n",
      "success at time = 19!\n",
      "success at time = 22!\n",
      "constraint violated!\n",
      "success at time = 2!\n",
      "success at time = 2!\n",
      "success at time = 21!\n",
      "success at time = 31!\n",
      "success at time = 13!\n",
      "success at time = 14!\n"
     ]
    },
    {
     "name": "stderr",
     "output_type": "stream",
     "text": [
      " 86%|████████▌ | 86/100 [00:00<00:00, 213.81it/s]"
     ]
    },
    {
     "name": "stdout",
     "output_type": "stream",
     "text": [
      "success at time = 14!\n",
      "success at time = 7!\n",
      "success at time = 14!\n",
      "success at time = 23!\n",
      "success at time = 13!\n",
      "success at time = 10!\n",
      "success at time = 26!\n",
      "success at time = 27!\n",
      "success at time = 14!\n",
      "success at time = 13!\n",
      "success at time = 12!\n",
      "success at time = 22!\n",
      "success at time = 14!\n",
      "success at time = 21!\n",
      "constraint violated!\n",
      "success at time = 15!\n",
      "constraint violated!\n",
      "success at time = 26!\n",
      "success at time = 24!\n",
      "success at time = 13!\n",
      "success at time = 19!\n",
      "success at time = 14!\n",
      "success at time = 19!\n",
      "success at time = 17!\n",
      "constraint violated!\n",
      "success at time = 30!\n",
      "success at time = 5!\n",
      "success at time = 31!\n",
      "success at time = 13!\n",
      "success at time = 18!\n",
      "success at time = 7!\n",
      "success at time = 7!\n",
      "success at time = 12!\n",
      "success at time = 14!\n",
      "success at time = 16!\n",
      "constraint violated!\n",
      "success at time = 16!\n",
      "success at time = 34!\n",
      "success at time = 16!\n",
      "success at time = 12!\n",
      "success at time = 14!\n",
      "success at time = 16!\n",
      "success at time = 9!\n",
      "success at time = 25!\n"
     ]
    },
    {
     "name": "stderr",
     "output_type": "stream",
     "text": [
      "100%|██████████| 100/100 [00:00<00:00, 209.46it/s]"
     ]
    },
    {
     "name": "stdout",
     "output_type": "stream",
     "text": [
      "constraint violated!\n",
      "success at time = 18!\n",
      "success at time = 6!\n",
      "success at time = 22!\n",
      "success at time = 12!\n",
      "success at time = 27!\n",
      "success at time = 5!\n",
      "constraint violated!\n",
      "success at time = 17!\n",
      "success at time = 18!\n",
      "success at time = 14!\n",
      "success at time = 16!\n"
     ]
    },
    {
     "name": "stderr",
     "output_type": "stream",
     "text": [
      "\n"
     ]
    },
    {
     "data": {
      "text/plain": [
       "0.87"
      ]
     },
     "execution_count": 9,
     "metadata": {},
     "output_type": "execute_result"
    }
   ],
   "source": [
    "# # Test how the learned policy performs on the sampled initial states from droneracing_post_training_DDPG_evaluation_new.ipynb\n",
    "# NOTE! We assume the list_of_initial_states_droneracing_from_new_reachability_value_function_learning.pkl is stored in the current directory, which can be obtained from droneracing_post_training_DDPG_evaluation_new.ipynb\n",
    "import pickle\n",
    "with open(\"list_of_initial_states_droneracing_from_new_reachability_value_function_learning.pkl\", \"rb\") as f:\n",
    "    list_of_initial_sampled_states = pickle.load(f)\n",
    "num_samples = len(list_of_initial_sampled_states)\n",
    "list_of_success_states = []\n",
    "list_of_failure_states = []\n",
    "num_success = 0\n",
    "for ii in tqdm(range(num_samples)):\n",
    "    tmp = envs.reset(initial_state = sampled_initial_state)\n",
    "    traj, success,_ = roll_out_traj(envs, list_of_initial_sampled_states[ii], horizon, verbose = True)\n",
    "    if success==True :\n",
    "        num_success = num_success + 1\n",
    "        list_of_success_states.append(list_of_initial_sampled_states[ii])\n",
    "    else:\n",
    "        list_of_failure_states.append(list_of_initial_sampled_states[ii])\n",
    "        continue\n",
    "num_success/num_samples"
   ]
  },
  {
   "cell_type": "code",
   "execution_count": 12,
   "metadata": {},
   "outputs": [
    {
     "name": "stdout",
     "output_type": "stream",
     "text": [
      "success at time = 24!\n"
     ]
    },
    {
     "name": "stderr",
     "output_type": "stream",
     "text": [
      "  0%|          | 0/25 [00:00<?, ?it/s]"
     ]
    },
    {
     "name": "stderr",
     "output_type": "stream",
     "text": [
      "100%|██████████| 520/520 [00:06<00:00, 74.79it/s]\n",
      "/tmp/ipykernel_38494/3819624115.py:50: UserWarning: The following kwargs were not used by contour: 'label'\n",
      "  plt.contourf(X,Y,reward, levels=[1 - 1e-6, 1],  colors = \"#80A8D6\", alpha = 0.5,\n",
      "/tmp/ipykernel_38494/3819624115.py:54: UserWarning: The following kwargs were not used by contour: 'label'\n",
      "  plt.contour(X,Y,reward, levels=[1 - 1e-6], colors = \"#80A8D6\", alpha=1, label = \"target set\")\n",
      "100%|██████████| 25/25 [00:06<00:00,  3.58it/s]\n"
     ]
    },
    {
     "data": {
      "text/plain": [
       "(-0.95, 0.95)"
      ]
     },
     "execution_count": 12,
     "metadata": {},
     "output_type": "execute_result"
    },
    {
     "data": {
      "image/png": "[encoded data removed]",
      "text/plain": [
       "<Figure size 220x300 with 1 Axes>"
      ]
     },
     "metadata": {},
     "output_type": "display_data"
    }
   ],
   "source": [
    "#9748\n",
    "# note that we need to load epoch = 1600!!!!!!!!\n",
    "# plot the target set too!\n",
    "import matplotlib.pyplot as plt\n",
    "import matplotlib.animation as manimation\n",
    "import matplotlib\n",
    "from tqdm import tqdm\n",
    "FFMpegWriter = manimation.writers['ffmpeg']\n",
    "writer = FFMpegWriter(fps=15, metadata=dict(artist='Me'))\n",
    "initial_state = np.array([\n",
    "    0.9, ego_vx, # x, vx\n",
    "    -2.3, ego_vy,\n",
    "    ego_z, ego_vz,\n",
    "    ad_x, ad_vx,\n",
    "    ad_y, ad_vy,\n",
    "    ad_z, ad_vz\n",
    "])\n",
    "horizon = 300\n",
    "traj,_,rand_disturbance = roll_out_traj(envs, initial_state, horizon, verbose=True)\n",
    "fig, ax = plt.subplots(figsize=(2.2,3))\n",
    "min_x = -0.6\n",
    "max_x = 0.6\n",
    "min_y = -2.8\n",
    "max_y = -1.4\n",
    "alphas = np.linspace(0.1, 1.0, len(traj[0,:]))\n",
    "ax.scatter(traj[0,:], traj[2,:],  color = color_list[0], alpha = alphas ) #\"o\", color=\"#314cd4\",  label = \"ego\")\n",
    "ax.scatter(traj[6,:], traj[8,:],  color = color_list[4], alpha = alphas) #'o', color=\"#EA3323\",label = \"adversary\")\n",
    "\n",
    "\n",
    "def target_set(env, X, Y, tmp_point = np.array([\n",
    "    0, 0.,-1, 0.8,-0.0, 0,0.3,  0,-2.2, 0.3,0., 0\n",
    "])):\n",
    "    reward = np.zeros((X.shape))\n",
    "    for ii in tqdm(range(reward.shape[0])):\n",
    "        for jj in range(reward.shape[1]):\n",
    "            tmp_point[0], tmp_point[2] = X[ii,jj], Y[ii,jj]\n",
    "            env.reset(initial_state = tmp_point)\n",
    "            reward[ii,jj] = 1 if env.step([0,0,0,0,0,0])[1]>=0 else 0\n",
    "    return reward\n",
    "\n",
    "plt.rcParams[\"contour.linewidth\"]=1.5\n",
    "\n",
    "for j in tqdm(range(traj.shape[1])):    \n",
    "    # plot the target set\n",
    "    if j == traj.shape[1]-1:\n",
    "        x = np.arange(-0.9, 0.9, 0.005)\n",
    "        y = np.arange(-2.6, 0, 0.005)\n",
    "        X, Y = np.meshgrid(x, y)\n",
    "        reward = target_set(envs, X, Y, traj[:,j])\n",
    "        plt.contourf(X,Y,reward, levels=[1 - 1e-6, 1],  colors = \"#80A8D6\", alpha = 0.5, \n",
    "                    label = \"target set\"\n",
    "                    # hatches=['//']\n",
    "                    )\n",
    "        plt.contour(X,Y,reward, levels=[1 - 1e-6], colors = \"#80A8D6\", alpha=1, label = \"target set\")\n",
    "    ax.add_patch(matplotlib.patches.Circle((traj[6,j], traj[8,j]), 0.2, color='r', fill=True, alpha=0.05))\n",
    "ax.set_ylim([-2.6, 0])\n",
    "ax.set_xlim([-0.95, 0.95])"
   ]
  }
 ],
 "metadata": {
  "kernelspec": {
   "display_name": "reach_rl",
   "language": "python",
   "name": "python3"
  },
  "language_info": {
   "codemirror_mode": {
    "name": "ipython",
    "version": 3
   },
   "file_extension": ".py",
   "mimetype": "text/x-python",
   "name": "python",
   "nbconvert_exporter": "python",
   "pygments_lexer": "ipython3",
   "version": "3.10.14"
  }
 },
 "nbformat": 4,
 "nbformat_minor": 2
}
